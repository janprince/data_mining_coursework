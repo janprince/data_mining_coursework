{
 "cells": [
  {
   "cell_type": "markdown",
   "id": "d1bfb3bc-58ec-4d9e-b169-f70ee4628855",
   "metadata": {},
   "source": [
    "### Imports"
   ]
  },
  {
   "cell_type": "code",
   "execution_count": 396,
   "id": "8ca1d843-0005-469f-804c-65372b68913e",
   "metadata": {},
   "outputs": [],
   "source": [
    "import pandas as pd\n",
    "\n",
    "from sklearn.model_selection import train_test_split\n",
    "from sklearn.tree import DecisionTreeClassifier, plot_tree\n",
    "from sklearn.metrics import mean_absolute_error, confusion_matrix, accuracy_score, accuracy_score, precision_score, recall_score, f1_score\n",
    "from sklearn.preprocessing import LabelEncoder\n",
    "import matplotlib.pyplot as plt\n",
    "import seaborn as sns"
   ]
  },
  {
   "cell_type": "markdown",
   "id": "d1d75583-a6cd-4378-b510-a7248c8ac588",
   "metadata": {},
   "source": [
    "### Reading data"
   ]
  },
  {
   "cell_type": "code",
   "execution_count": 397,
   "id": "fc35ea77-bcfc-4928-81b2-5a666df2fc37",
   "metadata": {},
   "outputs": [],
   "source": [
    "colnames = [\"pelvic_incidence\", \n",
    "            \"pelvic_tilt\", \n",
    "            \"lumbar_lordosis_angle\", \n",
    "            \"sacral_slope\", \n",
    "            \"pelvic_radius\", \n",
    "            \"degree_spondylolisthesis\",\n",
    "            \"class\"\n",
    "            ]\n",
    "wine_df = pd.read_csv(\"./datasets/vertebral+column/column_3C.dat\", names=colnames, sep=\" \")          # {Hernia, Spondylolisthesis, Normal}"
   ]
  },
  {
   "cell_type": "code",
   "execution_count": 398,
   "id": "5137459f-2b45-440c-98f7-95fc73d494cd",
   "metadata": {},
   "outputs": [
    {
     "data": {
      "text/html": [
       "<div>\n",
       "<style scoped>\n",
       "    .dataframe tbody tr th:only-of-type {\n",
       "        vertical-align: middle;\n",
       "    }\n",
       "\n",
       "    .dataframe tbody tr th {\n",
       "        vertical-align: top;\n",
       "    }\n",
       "\n",
       "    .dataframe thead th {\n",
       "        text-align: right;\n",
       "    }\n",
       "</style>\n",
       "<table border=\"1\" class=\"dataframe\">\n",
       "  <thead>\n",
       "    <tr style=\"text-align: right;\">\n",
       "      <th></th>\n",
       "      <th>pelvic_incidence</th>\n",
       "      <th>pelvic_tilt</th>\n",
       "      <th>lumbar_lordosis_angle</th>\n",
       "      <th>sacral_slope</th>\n",
       "      <th>pelvic_radius</th>\n",
       "      <th>degree_spondylolisthesis</th>\n",
       "      <th>class</th>\n",
       "    </tr>\n",
       "  </thead>\n",
       "  <tbody>\n",
       "    <tr>\n",
       "      <th>0</th>\n",
       "      <td>63.03</td>\n",
       "      <td>22.55</td>\n",
       "      <td>39.61</td>\n",
       "      <td>40.48</td>\n",
       "      <td>98.67</td>\n",
       "      <td>-0.25</td>\n",
       "      <td>DH</td>\n",
       "    </tr>\n",
       "    <tr>\n",
       "      <th>1</th>\n",
       "      <td>39.06</td>\n",
       "      <td>10.06</td>\n",
       "      <td>25.02</td>\n",
       "      <td>29.00</td>\n",
       "      <td>114.41</td>\n",
       "      <td>4.56</td>\n",
       "      <td>DH</td>\n",
       "    </tr>\n",
       "    <tr>\n",
       "      <th>2</th>\n",
       "      <td>68.83</td>\n",
       "      <td>22.22</td>\n",
       "      <td>50.09</td>\n",
       "      <td>46.61</td>\n",
       "      <td>105.99</td>\n",
       "      <td>-3.53</td>\n",
       "      <td>DH</td>\n",
       "    </tr>\n",
       "    <tr>\n",
       "      <th>3</th>\n",
       "      <td>69.30</td>\n",
       "      <td>24.65</td>\n",
       "      <td>44.31</td>\n",
       "      <td>44.64</td>\n",
       "      <td>101.87</td>\n",
       "      <td>11.21</td>\n",
       "      <td>DH</td>\n",
       "    </tr>\n",
       "    <tr>\n",
       "      <th>4</th>\n",
       "      <td>49.71</td>\n",
       "      <td>9.65</td>\n",
       "      <td>28.32</td>\n",
       "      <td>40.06</td>\n",
       "      <td>108.17</td>\n",
       "      <td>7.92</td>\n",
       "      <td>DH</td>\n",
       "    </tr>\n",
       "  </tbody>\n",
       "</table>\n",
       "</div>"
      ],
      "text/plain": [
       "   pelvic_incidence  pelvic_tilt  lumbar_lordosis_angle  sacral_slope  \\\n",
       "0             63.03        22.55                  39.61         40.48   \n",
       "1             39.06        10.06                  25.02         29.00   \n",
       "2             68.83        22.22                  50.09         46.61   \n",
       "3             69.30        24.65                  44.31         44.64   \n",
       "4             49.71         9.65                  28.32         40.06   \n",
       "\n",
       "   pelvic_radius  degree_spondylolisthesis class  \n",
       "0          98.67                     -0.25    DH  \n",
       "1         114.41                      4.56    DH  \n",
       "2         105.99                     -3.53    DH  \n",
       "3         101.87                     11.21    DH  \n",
       "4         108.17                      7.92    DH  "
      ]
     },
     "execution_count": 398,
     "metadata": {},
     "output_type": "execute_result"
    }
   ],
   "source": [
    "wine_df.head()"
   ]
  },
  {
   "cell_type": "markdown",
   "id": "e06bb476-d35f-411b-af0c-3ef87e22e7ce",
   "metadata": {},
   "source": [
    "### Numerical data exploratory"
   ]
  },
  {
   "cell_type": "code",
   "execution_count": 399,
   "id": "bec36e72-1e27-4c9e-8842-936dc70bfb0f",
   "metadata": {},
   "outputs": [
    {
     "name": "stdout",
     "output_type": "stream",
     "text": [
      "<class 'pandas.core.frame.DataFrame'>\n",
      "RangeIndex: 310 entries, 0 to 309\n",
      "Data columns (total 7 columns):\n",
      " #   Column                    Non-Null Count  Dtype  \n",
      "---  ------                    --------------  -----  \n",
      " 0   pelvic_incidence          310 non-null    float64\n",
      " 1   pelvic_tilt               310 non-null    float64\n",
      " 2   lumbar_lordosis_angle     310 non-null    float64\n",
      " 3   sacral_slope              310 non-null    float64\n",
      " 4   pelvic_radius             310 non-null    float64\n",
      " 5   degree_spondylolisthesis  310 non-null    float64\n",
      " 6   class                     310 non-null    object \n",
      "dtypes: float64(6), object(1)\n",
      "memory usage: 17.1+ KB\n"
     ]
    }
   ],
   "source": [
    "wine_df.info()"
   ]
  },
  {
   "cell_type": "markdown",
   "id": "82642ea6-6881-4a1f-bf70-da0d75d02a95",
   "metadata": {},
   "source": [
    "### Splitting dataset"
   ]
  },
  {
   "cell_type": "markdown",
   "id": "b3f8a05f-1594-4275-8d85-e879950dc1b8",
   "metadata": {},
   "source": [
    "separating the **label** from the features"
   ]
  },
  {
   "cell_type": "code",
   "execution_count": 400,
   "id": "660b25cf-4be9-4d9c-8499-cd2f0c12d044",
   "metadata": {},
   "outputs": [],
   "source": [
    "X = wine_df.drop(columns=[\"class\",\n",
    "            \"lumbar_lordosis_angle\",\n",
    "                         \"lumbar_lordosis_angle\", \n",
    "            \"sacral_slope\", \n",
    "            \"degree_spondylolisthesis\",])\n",
    "y = wine_df[\"class\"]"
   ]
  },
  {
   "cell_type": "code",
   "execution_count": 401,
   "id": "92f9a6bd-afe7-4a1e-978b-5de63119598d",
   "metadata": {},
   "outputs": [
    {
     "data": {
      "text/html": [
       "<div>\n",
       "<style scoped>\n",
       "    .dataframe tbody tr th:only-of-type {\n",
       "        vertical-align: middle;\n",
       "    }\n",
       "\n",
       "    .dataframe tbody tr th {\n",
       "        vertical-align: top;\n",
       "    }\n",
       "\n",
       "    .dataframe thead th {\n",
       "        text-align: right;\n",
       "    }\n",
       "</style>\n",
       "<table border=\"1\" class=\"dataframe\">\n",
       "  <thead>\n",
       "    <tr style=\"text-align: right;\">\n",
       "      <th></th>\n",
       "      <th>pelvic_incidence</th>\n",
       "      <th>pelvic_tilt</th>\n",
       "      <th>pelvic_radius</th>\n",
       "    </tr>\n",
       "  </thead>\n",
       "  <tbody>\n",
       "    <tr>\n",
       "      <th>0</th>\n",
       "      <td>63.03</td>\n",
       "      <td>22.55</td>\n",
       "      <td>98.67</td>\n",
       "    </tr>\n",
       "    <tr>\n",
       "      <th>1</th>\n",
       "      <td>39.06</td>\n",
       "      <td>10.06</td>\n",
       "      <td>114.41</td>\n",
       "    </tr>\n",
       "    <tr>\n",
       "      <th>2</th>\n",
       "      <td>68.83</td>\n",
       "      <td>22.22</td>\n",
       "      <td>105.99</td>\n",
       "    </tr>\n",
       "    <tr>\n",
       "      <th>3</th>\n",
       "      <td>69.30</td>\n",
       "      <td>24.65</td>\n",
       "      <td>101.87</td>\n",
       "    </tr>\n",
       "    <tr>\n",
       "      <th>4</th>\n",
       "      <td>49.71</td>\n",
       "      <td>9.65</td>\n",
       "      <td>108.17</td>\n",
       "    </tr>\n",
       "  </tbody>\n",
       "</table>\n",
       "</div>"
      ],
      "text/plain": [
       "   pelvic_incidence  pelvic_tilt  pelvic_radius\n",
       "0             63.03        22.55          98.67\n",
       "1             39.06        10.06         114.41\n",
       "2             68.83        22.22         105.99\n",
       "3             69.30        24.65         101.87\n",
       "4             49.71         9.65         108.17"
      ]
     },
     "execution_count": 401,
     "metadata": {},
     "output_type": "execute_result"
    }
   ],
   "source": [
    "X.head()"
   ]
  },
  {
   "cell_type": "code",
   "execution_count": 402,
   "id": "c8f7b5dc-f901-42b9-98bd-303b83c04045",
   "metadata": {},
   "outputs": [
    {
     "data": {
      "text/plain": [
       "array(['DH', 'SL', 'NO'], dtype=object)"
      ]
     },
     "execution_count": 402,
     "metadata": {},
     "output_type": "execute_result"
    }
   ],
   "source": [
    "y.unique()"
   ]
  },
  {
   "cell_type": "markdown",
   "id": "1b8e9aae-625c-46b0-a166-95793298893f",
   "metadata": {},
   "source": [
    "#### Encode Labels"
   ]
  },
  {
   "cell_type": "code",
   "execution_count": 403,
   "id": "b4f5f631-266c-4c15-96e3-58217a97534e",
   "metadata": {},
   "outputs": [],
   "source": [
    "# encode labels using label encoder from sklearn preprocessing\n",
    "le = LabelEncoder()\n",
    "y_encoded = le.fit_transform(y)"
   ]
  },
  {
   "cell_type": "code",
   "execution_count": 404,
   "id": "64daf647-9d23-4f2b-b43b-4a75db41fc04",
   "metadata": {},
   "outputs": [
    {
     "data": {
      "text/plain": [
       "array([0, 0, 0, 0, 0, 0, 0, 0, 0, 0, 0, 0, 0, 0, 0, 0, 0, 0, 0, 0, 0, 0,\n",
       "       0, 0, 0, 0, 0, 0, 0, 0, 0, 0, 0, 0, 0, 0, 0, 0, 0, 0, 0, 0, 0, 0,\n",
       "       0, 0, 0, 0, 0, 0, 0, 0, 0, 0, 0, 0, 0, 0, 0, 0, 2, 2, 2, 2, 2, 2,\n",
       "       2, 2, 2, 2, 2, 2, 2, 2, 2, 2, 2, 2, 2, 2, 2, 2, 2, 2, 2, 2, 2, 2,\n",
       "       2, 2, 2, 2, 2, 2, 2, 2, 2, 2, 2, 2, 2, 2, 2, 2, 2, 2, 2, 2, 2, 2,\n",
       "       2, 2, 2, 2, 2, 2, 2, 2, 2, 2, 2, 2, 2, 2, 2, 2, 2, 2, 2, 2, 2, 2,\n",
       "       2, 2, 2, 2, 2, 2, 2, 2, 2, 2, 2, 2, 2, 2, 2, 2, 2, 2, 2, 2, 2, 2,\n",
       "       2, 2, 2, 2, 2, 2, 2, 2, 2, 2, 2, 2, 2, 2, 2, 2, 2, 2, 2, 2, 2, 2,\n",
       "       2, 2, 2, 2, 2, 2, 2, 2, 2, 2, 2, 2, 2, 2, 2, 2, 2, 2, 2, 2, 2, 2,\n",
       "       2, 2, 2, 2, 2, 2, 2, 2, 2, 2, 2, 2, 1, 1, 1, 1, 1, 1, 1, 1, 1, 1,\n",
       "       1, 1, 1, 1, 1, 1, 1, 1, 1, 1, 1, 1, 1, 1, 1, 1, 1, 1, 1, 1, 1, 1,\n",
       "       1, 1, 1, 1, 1, 1, 1, 1, 1, 1, 1, 1, 1, 1, 1, 1, 1, 1, 1, 1, 1, 1,\n",
       "       1, 1, 1, 1, 1, 1, 1, 1, 1, 1, 1, 1, 1, 1, 1, 1, 1, 1, 1, 1, 1, 1,\n",
       "       1, 1, 1, 1, 1, 1, 1, 1, 1, 1, 1, 1, 1, 1, 1, 1, 1, 1, 1, 1, 1, 1,\n",
       "       1, 1])"
      ]
     },
     "execution_count": 404,
     "metadata": {},
     "output_type": "execute_result"
    }
   ],
   "source": [
    " #{ 0: DH, 1: NO, 2: SL}\n",
    "y_encoded"
   ]
  },
  {
   "cell_type": "markdown",
   "id": "b5cd4cd0-cb19-499b-b704-67e70293a3d6",
   "metadata": {},
   "source": [
    "#### Splitting into train and validation sets"
   ]
  },
  {
   "cell_type": "code",
   "execution_count": 405,
   "id": "331087ec-0689-43be-9db8-920fc164d5e4",
   "metadata": {},
   "outputs": [],
   "source": [
    "X_train, X_test, y_train, y_test = train_test_split(X, y_encoded, test_size=0.15, random_state=42)"
   ]
  },
  {
   "cell_type": "code",
   "execution_count": 406,
   "id": "87c3b02e-7e05-4226-9599-8833620d3b2e",
   "metadata": {},
   "outputs": [
    {
     "name": "stdout",
     "output_type": "stream",
     "text": [
      "<class 'pandas.core.frame.DataFrame'>\n",
      "Int64Index: 263 entries, 7 to 102\n",
      "Data columns (total 3 columns):\n",
      " #   Column            Non-Null Count  Dtype  \n",
      "---  ------            --------------  -----  \n",
      " 0   pelvic_incidence  263 non-null    float64\n",
      " 1   pelvic_tilt       263 non-null    float64\n",
      " 2   pelvic_radius     263 non-null    float64\n",
      "dtypes: float64(3)\n",
      "memory usage: 8.2 KB\n"
     ]
    }
   ],
   "source": [
    "X_train.info()"
   ]
  },
  {
   "cell_type": "code",
   "execution_count": null,
   "id": "50a63a5e-3c5e-463c-a3a2-484972a5da4e",
   "metadata": {},
   "outputs": [],
   "source": []
  },
  {
   "cell_type": "markdown",
   "id": "e95c82f6-c069-43d2-9c60-3ef8f2b5b95c",
   "metadata": {},
   "source": [
    "### Constructing the DecisionTree Classifier"
   ]
  },
  {
   "cell_type": "code",
   "execution_count": 407,
   "id": "445d2ac5-0f3f-4436-8fb1-110978f4a09c",
   "metadata": {},
   "outputs": [
    {
     "data": {
      "text/html": [
       "<style>#sk-container-id-30 {color: black;background-color: white;}#sk-container-id-30 pre{padding: 0;}#sk-container-id-30 div.sk-toggleable {background-color: white;}#sk-container-id-30 label.sk-toggleable__label {cursor: pointer;display: block;width: 100%;margin-bottom: 0;padding: 0.3em;box-sizing: border-box;text-align: center;}#sk-container-id-30 label.sk-toggleable__label-arrow:before {content: \"▸\";float: left;margin-right: 0.25em;color: #696969;}#sk-container-id-30 label.sk-toggleable__label-arrow:hover:before {color: black;}#sk-container-id-30 div.sk-estimator:hover label.sk-toggleable__label-arrow:before {color: black;}#sk-container-id-30 div.sk-toggleable__content {max-height: 0;max-width: 0;overflow: hidden;text-align: left;background-color: #f0f8ff;}#sk-container-id-30 div.sk-toggleable__content pre {margin: 0.2em;color: black;border-radius: 0.25em;background-color: #f0f8ff;}#sk-container-id-30 input.sk-toggleable__control:checked~div.sk-toggleable__content {max-height: 200px;max-width: 100%;overflow: auto;}#sk-container-id-30 input.sk-toggleable__control:checked~label.sk-toggleable__label-arrow:before {content: \"▾\";}#sk-container-id-30 div.sk-estimator input.sk-toggleable__control:checked~label.sk-toggleable__label {background-color: #d4ebff;}#sk-container-id-30 div.sk-label input.sk-toggleable__control:checked~label.sk-toggleable__label {background-color: #d4ebff;}#sk-container-id-30 input.sk-hidden--visually {border: 0;clip: rect(1px 1px 1px 1px);clip: rect(1px, 1px, 1px, 1px);height: 1px;margin: -1px;overflow: hidden;padding: 0;position: absolute;width: 1px;}#sk-container-id-30 div.sk-estimator {font-family: monospace;background-color: #f0f8ff;border: 1px dotted black;border-radius: 0.25em;box-sizing: border-box;margin-bottom: 0.5em;}#sk-container-id-30 div.sk-estimator:hover {background-color: #d4ebff;}#sk-container-id-30 div.sk-parallel-item::after {content: \"\";width: 100%;border-bottom: 1px solid gray;flex-grow: 1;}#sk-container-id-30 div.sk-label:hover label.sk-toggleable__label {background-color: #d4ebff;}#sk-container-id-30 div.sk-serial::before {content: \"\";position: absolute;border-left: 1px solid gray;box-sizing: border-box;top: 0;bottom: 0;left: 50%;z-index: 0;}#sk-container-id-30 div.sk-serial {display: flex;flex-direction: column;align-items: center;background-color: white;padding-right: 0.2em;padding-left: 0.2em;position: relative;}#sk-container-id-30 div.sk-item {position: relative;z-index: 1;}#sk-container-id-30 div.sk-parallel {display: flex;align-items: stretch;justify-content: center;background-color: white;position: relative;}#sk-container-id-30 div.sk-item::before, #sk-container-id-30 div.sk-parallel-item::before {content: \"\";position: absolute;border-left: 1px solid gray;box-sizing: border-box;top: 0;bottom: 0;left: 50%;z-index: -1;}#sk-container-id-30 div.sk-parallel-item {display: flex;flex-direction: column;z-index: 1;position: relative;background-color: white;}#sk-container-id-30 div.sk-parallel-item:first-child::after {align-self: flex-end;width: 50%;}#sk-container-id-30 div.sk-parallel-item:last-child::after {align-self: flex-start;width: 50%;}#sk-container-id-30 div.sk-parallel-item:only-child::after {width: 0;}#sk-container-id-30 div.sk-dashed-wrapped {border: 1px dashed gray;margin: 0 0.4em 0.5em 0.4em;box-sizing: border-box;padding-bottom: 0.4em;background-color: white;}#sk-container-id-30 div.sk-label label {font-family: monospace;font-weight: bold;display: inline-block;line-height: 1.2em;}#sk-container-id-30 div.sk-label-container {text-align: center;}#sk-container-id-30 div.sk-container {/* jupyter's `normalize.less` sets `[hidden] { display: none; }` but bootstrap.min.css set `[hidden] { display: none !important; }` so we also need the `!important` here to be able to override the default hidden behavior on the sphinx rendered scikit-learn.org. See: https://github.com/scikit-learn/scikit-learn/issues/21755 */display: inline-block !important;position: relative;}#sk-container-id-30 div.sk-text-repr-fallback {display: none;}</style><div id=\"sk-container-id-30\" class=\"sk-top-container\"><div class=\"sk-text-repr-fallback\"><pre>DecisionTreeClassifier(max_depth=5, random_state=42)</pre><b>In a Jupyter environment, please rerun this cell to show the HTML representation or trust the notebook. <br />On GitHub, the HTML representation is unable to render, please try loading this page with nbviewer.org.</b></div><div class=\"sk-container\" hidden><div class=\"sk-item\"><div class=\"sk-estimator sk-toggleable\"><input class=\"sk-toggleable__control sk-hidden--visually\" id=\"sk-estimator-id-30\" type=\"checkbox\" checked><label for=\"sk-estimator-id-30\" class=\"sk-toggleable__label sk-toggleable__label-arrow\">DecisionTreeClassifier</label><div class=\"sk-toggleable__content\"><pre>DecisionTreeClassifier(max_depth=5, random_state=42)</pre></div></div></div></div></div>"
      ],
      "text/plain": [
       "DecisionTreeClassifier(max_depth=5, random_state=42)"
      ]
     },
     "execution_count": 407,
     "metadata": {},
     "output_type": "execute_result"
    }
   ],
   "source": [
    "model = DecisionTreeClassifier(criterion=\"gini\", random_state=42, max_depth=5, splitter=\"best\", ccp_alpha=0.0)\n",
    "model.fit(X_train, y_train)"
   ]
  },
  {
   "cell_type": "code",
   "execution_count": 408,
   "id": "746e0b39-7078-42d4-bc6b-d962a18dcea3",
   "metadata": {},
   "outputs": [
    {
     "data": {
      "text/plain": [
       "[Text(0.4605263157894737, 0.9166666666666666, 'x[0] <= 56.495\\ngini = 0.624\\nsamples = 263\\nvalue = [49, 88, 126]'),\n",
       " Text(0.16447368421052633, 0.75, 'x[2] <= 113.525\\ngini = 0.592\\nsamples = 124\\nvalue = [40, 66, 18]'),\n",
       " Text(0.05263157894736842, 0.5833333333333334, 'x[1] <= 6.645\\ngini = 0.537\\nsamples = 23\\nvalue = [12, 1, 10]'),\n",
       " Text(0.02631578947368421, 0.4166666666666667, 'gini = 0.0\\nsamples = 7\\nvalue = [0, 0, 7]'),\n",
       " Text(0.07894736842105263, 0.4166666666666667, 'x[2] <= 96.565\\ngini = 0.398\\nsamples = 16\\nvalue = [12, 1, 3]'),\n",
       " Text(0.05263157894736842, 0.25, 'gini = 0.0\\nsamples = 2\\nvalue = [0, 0, 2]'),\n",
       " Text(0.10526315789473684, 0.25, 'x[1] <= 7.145\\ngini = 0.255\\nsamples = 14\\nvalue = [12, 1, 1]'),\n",
       " Text(0.07894736842105263, 0.08333333333333333, 'gini = 0.0\\nsamples = 1\\nvalue = [0, 1, 0]'),\n",
       " Text(0.13157894736842105, 0.08333333333333333, 'gini = 0.142\\nsamples = 13\\nvalue = [12, 0, 1]'),\n",
       " Text(0.27631578947368424, 0.5833333333333334, 'x[1] <= 10.725\\ngini = 0.503\\nsamples = 101\\nvalue = [28, 65, 8]'),\n",
       " Text(0.18421052631578946, 0.4166666666666667, 'x[2] <= 116.02\\ngini = 0.34\\nsamples = 45\\nvalue = [4, 36, 5]'),\n",
       " Text(0.15789473684210525, 0.25, 'gini = 0.0\\nsamples = 3\\nvalue = [3, 0, 0]'),\n",
       " Text(0.21052631578947367, 0.25, 'x[2] <= 148.485\\ngini = 0.251\\nsamples = 42\\nvalue = [1, 36, 5]'),\n",
       " Text(0.18421052631578946, 0.08333333333333333, 'gini = 0.184\\nsamples = 40\\nvalue = [1, 36, 3]'),\n",
       " Text(0.23684210526315788, 0.08333333333333333, 'gini = 0.0\\nsamples = 2\\nvalue = [0, 0, 2]'),\n",
       " Text(0.3684210526315789, 0.4166666666666667, 'x[0] <= 45.56\\ngini = 0.545\\nsamples = 56\\nvalue = [24, 29, 3]'),\n",
       " Text(0.3157894736842105, 0.25, 'x[2] <= 125.005\\ngini = 0.454\\nsamples = 23\\nvalue = [15, 8, 0]'),\n",
       " Text(0.2894736842105263, 0.08333333333333333, 'gini = 0.245\\nsamples = 14\\nvalue = [12, 2, 0]'),\n",
       " Text(0.34210526315789475, 0.08333333333333333, 'gini = 0.444\\nsamples = 9\\nvalue = [3, 6, 0]'),\n",
       " Text(0.42105263157894735, 0.25, 'x[1] <= 18.99\\ngini = 0.512\\nsamples = 33\\nvalue = [9, 21, 3]'),\n",
       " Text(0.39473684210526316, 0.08333333333333333, 'gini = 0.42\\nsamples = 23\\nvalue = [3, 17, 3]'),\n",
       " Text(0.4473684210526316, 0.08333333333333333, 'gini = 0.48\\nsamples = 10\\nvalue = [6, 4, 0]'),\n",
       " Text(0.756578947368421, 0.75, 'x[0] <= 69.48\\ngini = 0.367\\nsamples = 139\\nvalue = [9, 22, 108]'),\n",
       " Text(0.5921052631578947, 0.5833333333333334, 'x[2] <= 112.115\\ngini = 0.571\\nsamples = 56\\nvalue = [8, 16, 32]'),\n",
       " Text(0.5, 0.4166666666666667, 'x[1] <= 18.17\\ngini = 0.339\\nsamples = 25\\nvalue = [3, 2, 20]'),\n",
       " Text(0.47368421052631576, 0.25, 'gini = 0.0\\nsamples = 19\\nvalue = [0, 0, 19]'),\n",
       " Text(0.5263157894736842, 0.25, 'x[0] <= 62.22\\ngini = 0.611\\nsamples = 6\\nvalue = [3, 2, 1]'),\n",
       " Text(0.5, 0.08333333333333333, 'gini = 0.0\\nsamples = 1\\nvalue = [0, 0, 1]'),\n",
       " Text(0.5526315789473685, 0.08333333333333333, 'gini = 0.48\\nsamples = 5\\nvalue = [3, 2, 0]'),\n",
       " Text(0.6842105263157895, 0.4166666666666667, 'x[1] <= 23.65\\ngini = 0.62\\nsamples = 31\\nvalue = [5, 14, 12]'),\n",
       " Text(0.631578947368421, 0.25, 'x[0] <= 61.085\\ngini = 0.507\\nsamples = 23\\nvalue = [1, 14, 8]'),\n",
       " Text(0.6052631578947368, 0.08333333333333333, 'gini = 0.469\\nsamples = 8\\nvalue = [0, 3, 5]'),\n",
       " Text(0.6578947368421053, 0.08333333333333333, 'gini = 0.418\\nsamples = 15\\nvalue = [1, 11, 3]'),\n",
       " Text(0.7368421052631579, 0.25, 'x[2] <= 128.83\\ngini = 0.5\\nsamples = 8\\nvalue = [4, 0, 4]'),\n",
       " Text(0.7105263157894737, 0.08333333333333333, 'gini = 0.32\\nsamples = 5\\nvalue = [4, 0, 1]'),\n",
       " Text(0.7631578947368421, 0.08333333333333333, 'gini = 0.0\\nsamples = 3\\nvalue = [0, 0, 3]'),\n",
       " Text(0.9210526315789473, 0.5833333333333334, 'x[2] <= 111.815\\ngini = 0.156\\nsamples = 83\\nvalue = [1, 6, 76]'),\n",
       " Text(0.8947368421052632, 0.4166666666666667, 'x[2] <= 110.705\\ngini = 0.337\\nsamples = 34\\nvalue = [1, 6, 27]'),\n",
       " Text(0.8421052631578947, 0.25, 'x[1] <= 40.93\\ngini = 0.238\\nsamples = 30\\nvalue = [1, 3, 26]'),\n",
       " Text(0.8157894736842105, 0.08333333333333333, 'gini = 0.191\\nsamples = 28\\nvalue = [0, 3, 25]'),\n",
       " Text(0.868421052631579, 0.08333333333333333, 'gini = 0.5\\nsamples = 2\\nvalue = [1, 0, 1]'),\n",
       " Text(0.9473684210526315, 0.25, 'x[1] <= 38.98\\ngini = 0.375\\nsamples = 4\\nvalue = [0, 3, 1]'),\n",
       " Text(0.9210526315789473, 0.08333333333333333, 'gini = 0.0\\nsamples = 3\\nvalue = [0, 3, 0]'),\n",
       " Text(0.9736842105263158, 0.08333333333333333, 'gini = 0.0\\nsamples = 1\\nvalue = [0, 0, 1]'),\n",
       " Text(0.9473684210526315, 0.4166666666666667, 'gini = 0.0\\nsamples = 49\\nvalue = [0, 0, 49]')]"
      ]
     },
     "execution_count": 408,
     "metadata": {},
     "output_type": "execute_result"
    },
    {
     "data": {
      "image/png": "[encoded data removed]",
      "text/plain": [
       "<Figure size 900x600 with 1 Axes>"
      ]
     },
     "metadata": {},
     "output_type": "display_data"
    }
   ],
   "source": [
    "fig, ax = plt.subplots(figsize=(3, 2), dpi=300)\n",
    "plot_tree(model, ax=ax, fontsize=0.1)"
   ]
  },
  {
   "cell_type": "code",
   "execution_count": 409,
   "id": "0bda2a5c-eab4-47bc-bcfb-8c7e347a8776",
   "metadata": {},
   "outputs": [
    {
     "name": "stderr",
     "output_type": "stream",
     "text": [
      "C:\\Users\\HP\\AppData\\Local\\Programs\\Python\\Python39\\lib\\site-packages\\sklearn\\base.py:439: UserWarning: X does not have valid feature names, but DecisionTreeClassifier was fitted with feature names\n",
      "  warnings.warn(\n"
     ]
    },
    {
     "ename": "ValueError",
     "evalue": "X has 6 features, but DecisionTreeClassifier is expecting 3 features as input.",
     "output_type": "error",
     "traceback": [
      "\u001b[1;31m---------------------------------------------------------------------------\u001b[0m",
      "\u001b[1;31mValueError\u001b[0m                                Traceback (most recent call last)",
      "\u001b[1;32m~\\AppData\\Local\\Temp/ipykernel_3876/3617522899.py\u001b[0m in \u001b[0;36m<module>\u001b[1;34m\u001b[0m\n\u001b[0;32m      1\u001b[0m \u001b[1;31m# printing the prediction probabilities\u001b[0m\u001b[1;33m\u001b[0m\u001b[1;33m\u001b[0m\u001b[1;33m\u001b[0m\u001b[0m\n\u001b[1;32m----> 2\u001b[1;33m \u001b[0mprob\u001b[0m \u001b[1;33m=\u001b[0m \u001b[0mmodel\u001b[0m\u001b[1;33m.\u001b[0m\u001b[0mpredict_proba\u001b[0m\u001b[1;33m(\u001b[0m\u001b[1;33m[\u001b[0m\u001b[1;33m[\u001b[0m\u001b[1;36m41.77\u001b[0m\u001b[1;33m,\u001b[0m \u001b[1;36m17.9\u001b[0m\u001b[1;33m,\u001b[0m \u001b[1;36m20.03\u001b[0m\u001b[1;33m,\u001b[0m \u001b[1;36m23.87\u001b[0m\u001b[1;33m,\u001b[0m \u001b[1;36m118.36\u001b[0m\u001b[1;33m,\u001b[0m \u001b[1;36m2.06\u001b[0m\u001b[1;33m]\u001b[0m\u001b[1;33m]\u001b[0m\u001b[1;33m)\u001b[0m\u001b[1;33m\u001b[0m\u001b[1;33m\u001b[0m\u001b[0m\n\u001b[0m\u001b[0;32m      3\u001b[0m \u001b[0mprint\u001b[0m\u001b[1;33m(\u001b[0m\u001b[1;34mf\"Prediction prob: {prob}\"\u001b[0m\u001b[1;33m)\u001b[0m\u001b[1;33m\u001b[0m\u001b[1;33m\u001b[0m\u001b[0m\n\u001b[0;32m      4\u001b[0m \u001b[1;33m\u001b[0m\u001b[0m\n\u001b[0;32m      5\u001b[0m \u001b[1;31m# making a prediction\u001b[0m\u001b[1;33m\u001b[0m\u001b[1;33m\u001b[0m\u001b[1;33m\u001b[0m\u001b[0m\n",
      "\u001b[1;32m~\\AppData\\Local\\Programs\\Python\\Python39\\lib\\site-packages\\sklearn\\tree\\_classes.py\u001b[0m in \u001b[0;36mpredict_proba\u001b[1;34m(self, X, check_input)\u001b[0m\n\u001b[0;32m    920\u001b[0m         \"\"\"\n\u001b[0;32m    921\u001b[0m         \u001b[0mcheck_is_fitted\u001b[0m\u001b[1;33m(\u001b[0m\u001b[0mself\u001b[0m\u001b[1;33m)\u001b[0m\u001b[1;33m\u001b[0m\u001b[1;33m\u001b[0m\u001b[0m\n\u001b[1;32m--> 922\u001b[1;33m         \u001b[0mX\u001b[0m \u001b[1;33m=\u001b[0m \u001b[0mself\u001b[0m\u001b[1;33m.\u001b[0m\u001b[0m_validate_X_predict\u001b[0m\u001b[1;33m(\u001b[0m\u001b[0mX\u001b[0m\u001b[1;33m,\u001b[0m \u001b[0mcheck_input\u001b[0m\u001b[1;33m)\u001b[0m\u001b[1;33m\u001b[0m\u001b[1;33m\u001b[0m\u001b[0m\n\u001b[0m\u001b[0;32m    923\u001b[0m         \u001b[0mproba\u001b[0m \u001b[1;33m=\u001b[0m \u001b[0mself\u001b[0m\u001b[1;33m.\u001b[0m\u001b[0mtree_\u001b[0m\u001b[1;33m.\u001b[0m\u001b[0mpredict\u001b[0m\u001b[1;33m(\u001b[0m\u001b[0mX\u001b[0m\u001b[1;33m)\u001b[0m\u001b[1;33m\u001b[0m\u001b[1;33m\u001b[0m\u001b[0m\n\u001b[0;32m    924\u001b[0m \u001b[1;33m\u001b[0m\u001b[0m\n",
      "\u001b[1;32m~\\AppData\\Local\\Programs\\Python\\Python39\\lib\\site-packages\\sklearn\\tree\\_classes.py\u001b[0m in \u001b[0;36m_validate_X_predict\u001b[1;34m(self, X, check_input)\u001b[0m\n\u001b[0;32m    390\u001b[0m         \u001b[1;34m\"\"\"Validate the training data on predict (probabilities).\"\"\"\u001b[0m\u001b[1;33m\u001b[0m\u001b[1;33m\u001b[0m\u001b[0m\n\u001b[0;32m    391\u001b[0m         \u001b[1;32mif\u001b[0m \u001b[0mcheck_input\u001b[0m\u001b[1;33m:\u001b[0m\u001b[1;33m\u001b[0m\u001b[1;33m\u001b[0m\u001b[0m\n\u001b[1;32m--> 392\u001b[1;33m             \u001b[0mX\u001b[0m \u001b[1;33m=\u001b[0m \u001b[0mself\u001b[0m\u001b[1;33m.\u001b[0m\u001b[0m_validate_data\u001b[0m\u001b[1;33m(\u001b[0m\u001b[0mX\u001b[0m\u001b[1;33m,\u001b[0m \u001b[0mdtype\u001b[0m\u001b[1;33m=\u001b[0m\u001b[0mDTYPE\u001b[0m\u001b[1;33m,\u001b[0m \u001b[0maccept_sparse\u001b[0m\u001b[1;33m=\u001b[0m\u001b[1;34m\"csr\"\u001b[0m\u001b[1;33m,\u001b[0m \u001b[0mreset\u001b[0m\u001b[1;33m=\u001b[0m\u001b[1;32mFalse\u001b[0m\u001b[1;33m)\u001b[0m\u001b[1;33m\u001b[0m\u001b[1;33m\u001b[0m\u001b[0m\n\u001b[0m\u001b[0;32m    393\u001b[0m             if issparse(X) and (\n\u001b[0;32m    394\u001b[0m                 \u001b[0mX\u001b[0m\u001b[1;33m.\u001b[0m\u001b[0mindices\u001b[0m\u001b[1;33m.\u001b[0m\u001b[0mdtype\u001b[0m \u001b[1;33m!=\u001b[0m \u001b[0mnp\u001b[0m\u001b[1;33m.\u001b[0m\u001b[0mintc\u001b[0m \u001b[1;32mor\u001b[0m \u001b[0mX\u001b[0m\u001b[1;33m.\u001b[0m\u001b[0mindptr\u001b[0m\u001b[1;33m.\u001b[0m\u001b[0mdtype\u001b[0m \u001b[1;33m!=\u001b[0m \u001b[0mnp\u001b[0m\u001b[1;33m.\u001b[0m\u001b[0mintc\u001b[0m\u001b[1;33m\u001b[0m\u001b[1;33m\u001b[0m\u001b[0m\n",
      "\u001b[1;32m~\\AppData\\Local\\Programs\\Python\\Python39\\lib\\site-packages\\sklearn\\base.py\u001b[0m in \u001b[0;36m_validate_data\u001b[1;34m(self, X, y, reset, validate_separately, **check_params)\u001b[0m\n\u001b[0;32m    586\u001b[0m \u001b[1;33m\u001b[0m\u001b[0m\n\u001b[0;32m    587\u001b[0m         \u001b[1;32mif\u001b[0m \u001b[1;32mnot\u001b[0m \u001b[0mno_val_X\u001b[0m \u001b[1;32mand\u001b[0m \u001b[0mcheck_params\u001b[0m\u001b[1;33m.\u001b[0m\u001b[0mget\u001b[0m\u001b[1;33m(\u001b[0m\u001b[1;34m\"ensure_2d\"\u001b[0m\u001b[1;33m,\u001b[0m \u001b[1;32mTrue\u001b[0m\u001b[1;33m)\u001b[0m\u001b[1;33m:\u001b[0m\u001b[1;33m\u001b[0m\u001b[1;33m\u001b[0m\u001b[0m\n\u001b[1;32m--> 588\u001b[1;33m             \u001b[0mself\u001b[0m\u001b[1;33m.\u001b[0m\u001b[0m_check_n_features\u001b[0m\u001b[1;33m(\u001b[0m\u001b[0mX\u001b[0m\u001b[1;33m,\u001b[0m \u001b[0mreset\u001b[0m\u001b[1;33m=\u001b[0m\u001b[0mreset\u001b[0m\u001b[1;33m)\u001b[0m\u001b[1;33m\u001b[0m\u001b[1;33m\u001b[0m\u001b[0m\n\u001b[0m\u001b[0;32m    589\u001b[0m \u001b[1;33m\u001b[0m\u001b[0m\n\u001b[0;32m    590\u001b[0m         \u001b[1;32mreturn\u001b[0m \u001b[0mout\u001b[0m\u001b[1;33m\u001b[0m\u001b[1;33m\u001b[0m\u001b[0m\n",
      "\u001b[1;32m~\\AppData\\Local\\Programs\\Python\\Python39\\lib\\site-packages\\sklearn\\base.py\u001b[0m in \u001b[0;36m_check_n_features\u001b[1;34m(self, X, reset)\u001b[0m\n\u001b[0;32m    387\u001b[0m \u001b[1;33m\u001b[0m\u001b[0m\n\u001b[0;32m    388\u001b[0m         \u001b[1;32mif\u001b[0m \u001b[0mn_features\u001b[0m \u001b[1;33m!=\u001b[0m \u001b[0mself\u001b[0m\u001b[1;33m.\u001b[0m\u001b[0mn_features_in_\u001b[0m\u001b[1;33m:\u001b[0m\u001b[1;33m\u001b[0m\u001b[1;33m\u001b[0m\u001b[0m\n\u001b[1;32m--> 389\u001b[1;33m             raise ValueError(\n\u001b[0m\u001b[0;32m    390\u001b[0m                 \u001b[1;34mf\"X has {n_features} features, but {self.__class__.__name__} \"\u001b[0m\u001b[1;33m\u001b[0m\u001b[1;33m\u001b[0m\u001b[0m\n\u001b[0;32m    391\u001b[0m                 \u001b[1;34mf\"is expecting {self.n_features_in_} features as input.\"\u001b[0m\u001b[1;33m\u001b[0m\u001b[1;33m\u001b[0m\u001b[0m\n",
      "\u001b[1;31mValueError\u001b[0m: X has 6 features, but DecisionTreeClassifier is expecting 3 features as input."
     ]
    }
   ],
   "source": [
    "# printing the prediction probabilities\n",
    "prob = model.predict_proba([[41.77, 17.9, 20.03, 23.87, 118.36, 2.06]])\n",
    "print(f\"Prediction prob: {prob}\")\n",
    "\n",
    "# making a prediction\n",
    "pred = model.predict([[41.77, 17.9, 20.03, 23.87, 118.36, 2.06]])\n",
    "print(f\"Prediction: {pred}\")"
   ]
  },
  {
   "cell_type": "markdown",
   "id": "946c0048-b4c0-410e-8cda-d55a9656ff71",
   "metadata": {
    "tags": []
   },
   "source": [
    "### Evaluating model performance on the training set"
   ]
  },
  {
   "cell_type": "markdown",
   "id": "8bc83f90-d119-4b91-b2d7-6ceca81fd744",
   "metadata": {},
   "source": [
    "#### Using Mean Absolute Error"
   ]
  },
  {
   "cell_type": "code",
   "execution_count": 410,
   "id": "e2037fb5-d668-4c09-b97f-b328f1723e7e",
   "metadata": {},
   "outputs": [
    {
     "data": {
      "text/plain": [
       "array([0, 1, 2, 2, 0, 0, 2, 2, 1, 0, 2, 2, 1, 2, 2, 2, 1, 1, 1, 2, 2, 2,\n",
       "       1, 2, 1, 2, 0, 0, 1, 0, 2, 2, 2, 1, 2, 2, 2, 2, 0, 2, 2, 2, 1, 0,\n",
       "       2, 1, 1, 2, 2, 0, 0, 1, 1, 2, 2, 1, 1, 1, 0, 2, 1, 2, 2, 2, 0, 2,\n",
       "       2, 1, 2, 0, 1, 2, 2, 2, 2, 1, 2, 2, 2, 2, 1, 1, 2, 2, 1, 1, 2, 0,\n",
       "       1, 2, 2, 2, 2, 2, 1, 1, 1, 2, 1, 0, 2, 2, 2, 1, 1, 1, 2, 2, 0, 2,\n",
       "       1, 2, 1, 2, 2, 1, 1, 2, 2, 2, 2, 2, 0, 0, 0, 2, 2, 1, 2, 2, 0, 2,\n",
       "       0, 2, 1, 0, 2, 1, 2, 1, 1, 2, 1, 0, 1, 1, 2, 2, 1, 2, 2, 2, 1, 2,\n",
       "       2, 0, 1, 1, 0, 0, 1, 1, 0, 1, 0, 2, 0, 0, 2, 1, 1, 2, 1, 1, 2, 2,\n",
       "       1, 0, 2, 1, 2, 1, 1, 2, 0, 2, 2, 1, 2, 0, 2, 1, 2, 1, 2, 1, 0, 1,\n",
       "       1, 1, 2, 0, 0, 2, 0, 1, 1, 2, 2, 0, 1, 2, 0, 0, 0, 0, 2, 2, 0, 1,\n",
       "       2, 0, 1, 1, 0, 2, 1, 2, 1, 1, 1, 1, 0, 0, 2, 2, 1, 2, 2, 0, 0, 1,\n",
       "       1, 0, 2, 1, 2, 1, 1, 2, 0, 1, 2, 1, 1, 2, 1, 1, 2, 2, 2, 1, 2])"
      ]
     },
     "execution_count": 410,
     "metadata": {},
     "output_type": "execute_result"
    }
   ],
   "source": [
    "y_train_pred = model.predict(X_train)\n",
    "y_train_pred"
   ]
  },
  {
   "cell_type": "code",
   "execution_count": 411,
   "id": "633f3379-40fe-42b8-b109-a08762a48b37",
   "metadata": {},
   "outputs": [],
   "source": [
    "mse = mean_absolute_error(y_train, y_train_pred)"
   ]
  },
  {
   "cell_type": "code",
   "execution_count": 412,
   "id": "bcd612ad-1ec9-40cd-a5c5-ea02e3fe9571",
   "metadata": {},
   "outputs": [
    {
     "data": {
      "text/plain": [
       "0.14068441064638784"
      ]
     },
     "execution_count": 412,
     "metadata": {},
     "output_type": "execute_result"
    }
   ],
   "source": [
    "mse"
   ]
  },
  {
   "cell_type": "markdown",
   "id": "f2af6361-f8aa-4b2a-b20a-3998e6d252f5",
   "metadata": {},
   "source": [
    "**error: 0 🤔**"
   ]
  },
  {
   "cell_type": "markdown",
   "id": "4aec4fb4-4f20-4812-855d-0f28425cdb39",
   "metadata": {},
   "source": [
    "#### Using confusion matrix"
   ]
  },
  {
   "cell_type": "code",
   "execution_count": 413,
   "id": "8d41982e-9c32-4c07-b3d6-eac9b581bebf",
   "metadata": {},
   "outputs": [
    {
     "data": {
      "text/plain": [
       "array([[ 41,   8,   0],\n",
       "       [  8,  74,   6],\n",
       "       [  3,   9, 114]], dtype=int64)"
      ]
     },
     "execution_count": 413,
     "metadata": {},
     "output_type": "execute_result"
    }
   ],
   "source": [
    "cm = confusion_matrix(y_train, y_train_pred)\n",
    "cm"
   ]
  },
  {
   "cell_type": "markdown",
   "id": "0e85d0af-55e8-48af-97db-45325542eb46",
   "metadata": {},
   "source": [
    "**NB:** Confusion matrix whose i-th row and j-th column entry indicates the number of samples with true label being i-th class and predicted label being j-th class."
   ]
  },
  {
   "cell_type": "markdown",
   "id": "2a8810af-b755-4730-a3fd-d70eada7b1ba",
   "metadata": {},
   "source": [
    "### Evaluating model performance on the Validation (Test) Set\n",
    "\n",
    "Accuracy, Precision, Recall and F1 score"
   ]
  },
  {
   "cell_type": "code",
   "execution_count": 414,
   "id": "4df25581-bcf0-4bdd-8297-8e24cbe54f23",
   "metadata": {},
   "outputs": [],
   "source": [
    "# make predictions on the validation set\n",
    "y_test_pred = model.predict(X_test)"
   ]
  },
  {
   "cell_type": "markdown",
   "id": "03344ccf-f792-48ed-9e09-e080201e5952",
   "metadata": {},
   "source": [
    "#### Plotting the confusion matrix"
   ]
  },
  {
   "cell_type": "code",
   "execution_count": 415,
   "id": "da4b6797-c402-44cb-9437-d81e4e6186fa",
   "metadata": {},
   "outputs": [
    {
     "data": {
      "text/plain": [
       "array([[ 7,  3,  1],\n",
       "       [ 1, 11,  0],\n",
       "       [ 3,  1, 20]], dtype=int64)"
      ]
     },
     "execution_count": 415,
     "metadata": {},
     "output_type": "execute_result"
    }
   ],
   "source": [
    "c_matrix = confusion_matrix(y_test, y_test_pred)\n",
    "c_matrix"
   ]
  },
  {
   "cell_type": "code",
   "execution_count": 416,
   "id": "f3043fdf-f640-46c8-90ee-42b90c8fdb67",
   "metadata": {},
   "outputs": [
    {
     "data": {
      "image/png": "[encoded data removed]",
      "text/plain": [
       "<Figure size 576x576 with 1 Axes>"
      ]
     },
     "metadata": {},
     "output_type": "display_data"
    }
   ],
   "source": [
    "plt.figure(figsize=(8,8))\n",
    "sns.set(font_scale = 1.5)\n",
    "\n",
    "ax = sns.heatmap(\n",
    "    c_matrix, # confusion matrix 2D array \n",
    "    annot=True, # show numbers in the cells\n",
    "    fmt='d', # show numbers as integers\n",
    "    cbar=False, # don't show the color bar\n",
    "    cmap=\"flag\", # customize color map\n",
    "    vmax=10 # to get better color contrast\n",
    ")\n",
    "\n",
    "ax.set_xlabel(\"Predicted\", labelpad=20)\n",
    "ax.set_ylabel(\"Actual\", labelpad=20)\n",
    "plt.show()"
   ]
  },
  {
   "cell_type": "markdown",
   "id": "6d75c3c8-9ac2-4f19-8a2d-68a742687d10",
   "metadata": {},
   "source": [
    "Based on the confusion matrix, determine the class pair that is frequently misclassified."
   ]
  },
  {
   "cell_type": "markdown",
   "id": "8e64fd93-a22a-42d5-88d5-759ede7d3e9f",
   "metadata": {},
   "source": [
    "#### Accuracy\n",
    "It calculates the percentage of correctly classified instances out of the total number of instances in the dataset. Accuracy is a widely used metric, especially when the class distribution is balanced. "
   ]
  },
  {
   "cell_type": "code",
   "execution_count": 417,
   "id": "e6d885b5-3d69-4335-86d9-8f2caa1b7062",
   "metadata": {},
   "outputs": [],
   "source": [
    "accuracy = accuracy_score(y_test, y_test_pred)"
   ]
  },
  {
   "cell_type": "code",
   "execution_count": 418,
   "id": "e6c9df6c-d48f-4004-876e-e6563e91f5ef",
   "metadata": {},
   "outputs": [
    {
     "data": {
      "text/plain": [
       "0.8085106382978723"
      ]
     },
     "execution_count": 418,
     "metadata": {},
     "output_type": "execute_result"
    }
   ],
   "source": [
    "accuracy"
   ]
  },
  {
   "cell_type": "markdown",
   "id": "178ae312-10eb-4a24-9a7b-0ac668631748",
   "metadata": {},
   "source": [
    "#### Precison\n",
    "Precision is the measure of how many correctly predicted positive instances (true positives) there are out of all instances predicted as positive (true positives + false positives). Precision focuses on the accuracy of positive predictions. It helps determine the proportion of positive predictions that are actually correct."
   ]
  },
  {
   "cell_type": "code",
   "execution_count": 419,
   "id": "8d5eb41d-3f0f-41a5-b73f-af2408fad844",
   "metadata": {},
   "outputs": [],
   "source": [
    "precision = precision_score(y_test, y_test_pred, average=\"weighted\")"
   ]
  },
  {
   "cell_type": "code",
   "execution_count": 420,
   "id": "22fc2732-2983-4ec9-9eab-a7eb61114f12",
   "metadata": {},
   "outputs": [
    {
     "data": {
      "text/plain": [
       "0.8224924012158054"
      ]
     },
     "execution_count": 420,
     "metadata": {},
     "output_type": "execute_result"
    }
   ],
   "source": [
    "precision"
   ]
  },
  {
   "cell_type": "markdown",
   "id": "85c154f6-cd86-41c7-8478-0ba3a7be902d",
   "metadata": {},
   "source": [
    "#### Recall\n",
    "Recall, also known as sensitivity or true positive rate, measures the ability of a model to correctly identify positive instances. It calculates the ratio of true positives to the sum of true positives and false negatives. Recall focuses on the proportion of actual positive instances that are correctly predicted as positive."
   ]
  },
  {
   "cell_type": "code",
   "execution_count": 421,
   "id": "6f7afe8e-db9e-493f-b327-2b6b527301ad",
   "metadata": {},
   "outputs": [],
   "source": [
    "recall = recall_score(y_test, y_test_pred, average=\"weighted\")"
   ]
  },
  {
   "cell_type": "code",
   "execution_count": 422,
   "id": "98ddb5af-2b64-4c6f-9da5-ced4a30eb5e5",
   "metadata": {},
   "outputs": [
    {
     "data": {
      "text/plain": [
       "0.8085106382978723"
      ]
     },
     "execution_count": 422,
     "metadata": {},
     "output_type": "execute_result"
    }
   ],
   "source": [
    "recall"
   ]
  },
  {
   "cell_type": "markdown",
   "id": "bc031908-1011-44bf-a182-28c2fc6acfc0",
   "metadata": {},
   "source": [
    "#### F1 Score\n",
    "The F1 score is the harmonic mean of precision and recall. It provides a balanced measure of the model's performance by considering both precision and recall simultaneously. The F1 score is useful when there is an uneven class distribution or when both false positives and false negatives need to be minimized. It ranges from 0 to 1, with a value of 1 indicating the best possible performance."
   ]
  },
  {
   "cell_type": "code",
   "execution_count": 423,
   "id": "a6cec10c-6166-4b85-b999-7a7b664f97e9",
   "metadata": {},
   "outputs": [
    {
     "name": "stdout",
     "output_type": "stream",
     "text": [
      "0.8108747044917258\n"
     ]
    }
   ],
   "source": [
    "f1 = f1_score(y_test, y_test_pred, average=\"weighted\")\n",
    "print(f1)"
   ]
  },
  {
   "cell_type": "code",
   "execution_count": null,
   "id": "bb7aa2aa-abb7-4dcd-9877-7b365fa7da1f",
   "metadata": {},
   "outputs": [],
   "source": []
  },
  {
   "cell_type": "code",
   "execution_count": 424,
   "id": "6b647342-a47b-4aed-a148-7fbec7579f5b",
   "metadata": {},
   "outputs": [
    {
     "name": "stdout",
     "output_type": "stream",
     "text": [
      "Accuracy = 0.8085\n",
      "Precision = 0.8225\n",
      "Recall = 0.8085\n",
      "F1 Score = 0.8109\n"
     ]
    }
   ],
   "source": [
    "print(f\"Accuracy = {accuracy.round(4)}\")\n",
    "print(f\"Precision = {precision.round(4)}\")\n",
    "print(f\"Recall = {recall.round(4)}\")\n",
    "print(f\"F1 Score = {f1.round(4)}\")"
   ]
  },
  {
   "cell_type": "code",
   "execution_count": null,
   "id": "c57244f2-5475-4070-a1c2-c3a241c1624b",
   "metadata": {},
   "outputs": [],
   "source": []
  },
  {
   "cell_type": "markdown",
   "id": "8acbdd6c-4ddd-4980-a6fe-ad2810999ef9",
   "metadata": {},
   "source": [
    "Finding the indices of missclassified instances"
   ]
  },
  {
   "cell_type": "code",
   "execution_count": 273,
   "id": "0340af77-87ac-4ba8-b372-0673725dfd28",
   "metadata": {},
   "outputs": [],
   "source": [
    "misclassified_indices = [i for i in range(len(y_test)) if y_test[i] != y_test_pred[i]]"
   ]
  },
  {
   "cell_type": "code",
   "execution_count": 274,
   "id": "75f719cf-c6e8-492d-91ce-11fb1c3e8e21",
   "metadata": {},
   "outputs": [
    {
     "data": {
      "text/plain": [
       "[8, 12, 15, 31, 36, 37, 40, 46]"
      ]
     },
     "execution_count": 274,
     "metadata": {},
     "output_type": "execute_result"
    }
   ],
   "source": [
    "misclassified_indices"
   ]
  },
  {
   "cell_type": "code",
   "execution_count": 278,
   "id": "9567d928-0a96-4104-a862-afa025fbfa3d",
   "metadata": {},
   "outputs": [
    {
     "name": "stdout",
     "output_type": "stream",
     "text": [
      "1 0\n",
      "1 0\n",
      "1 0\n",
      "0 2\n",
      "0 1\n",
      "0 1\n",
      "0 1\n",
      "1 0\n"
     ]
    }
   ],
   "source": [
    "for i in misclassified_indices:\n",
    "    print(y_test[i], y_test_pred[i])"
   ]
  },
  {
   "cell_type": "markdown",
   "id": "af0f0e6f-5871-4852-9199-d4972185e74b",
   "metadata": {},
   "source": [
    "Analyzing the decision the sequence of decisions that lead to the misclassification."
   ]
  },
  {
   "cell_type": "code",
   "execution_count": 279,
   "id": "7a0a425e-e4f1-4a5d-8cd6-b68d920a0d62",
   "metadata": {},
   "outputs": [
    {
     "name": "stderr",
     "output_type": "stream",
     "text": [
      "C:\\Users\\HP\\AppData\\Local\\Programs\\Python\\Python39\\lib\\site-packages\\sklearn\\base.py:439: UserWarning: X does not have valid feature names, but DecisionTreeClassifier was fitted with feature names\n",
      "  warnings.warn(\n"
     ]
    },
    {
     "data": {
      "text/plain": [
       "[5, 3, 4, 5, 1]"
      ]
     },
     "execution_count": 279,
     "metadata": {},
     "output_type": "execute_result"
    }
   ],
   "source": [
    "misclassified_index = 36\n",
    "misclassified_instance = X_test.iloc[misclassified_index]\n",
    "\n",
    "node_indicator = model.decision_path([misclassified_instance])\n",
    "node_index = node_indicator.indices\n",
    "\n",
    "# Retrieve the attribute decisions made along the path\n",
    "attribute_decisions = [model.tree_.feature[node] for node in node_index[:-1]]\n",
    "attribute_decisions"
   ]
  },
  {
   "cell_type": "code",
   "execution_count": 281,
   "id": "fdbabc9b-a575-4dbb-9242-6660612d1e8c",
   "metadata": {},
   "outputs": [
    {
     "ename": "TypeError",
     "evalue": "list indices must be integers or slices, not str",
     "output_type": "error",
     "traceback": [
      "\u001b[1;31m---------------------------------------------------------------------------\u001b[0m",
      "\u001b[1;31mTypeError\u001b[0m                                 Traceback (most recent call last)",
      "\u001b[1;32m~\\AppData\\Local\\Temp/ipykernel_3876/2161020716.py\u001b[0m in \u001b[0;36m<module>\u001b[1;34m\u001b[0m\n\u001b[1;32m----> 1\u001b[1;33m \u001b[0mattribute_decisions\u001b[0m \u001b[1;33m=\u001b[0m \u001b[1;33m[\u001b[0m\u001b[0mcolnames\u001b[0m\u001b[1;33m[\u001b[0m\u001b[0mind\u001b[0m\u001b[1;33m]\u001b[0m \u001b[1;32mfor\u001b[0m \u001b[0mind\u001b[0m \u001b[1;32min\u001b[0m \u001b[0mattribute_decisions\u001b[0m\u001b[1;33m]\u001b[0m\u001b[1;33m\u001b[0m\u001b[1;33m\u001b[0m\u001b[0m\n\u001b[0m\u001b[0;32m      2\u001b[0m \u001b[0mattribute_decisions\u001b[0m\u001b[1;33m\u001b[0m\u001b[1;33m\u001b[0m\u001b[0m\n",
      "\u001b[1;32m~\\AppData\\Local\\Temp/ipykernel_3876/2161020716.py\u001b[0m in \u001b[0;36m<listcomp>\u001b[1;34m(.0)\u001b[0m\n\u001b[1;32m----> 1\u001b[1;33m \u001b[0mattribute_decisions\u001b[0m \u001b[1;33m=\u001b[0m \u001b[1;33m[\u001b[0m\u001b[0mcolnames\u001b[0m\u001b[1;33m[\u001b[0m\u001b[0mind\u001b[0m\u001b[1;33m]\u001b[0m \u001b[1;32mfor\u001b[0m \u001b[0mind\u001b[0m \u001b[1;32min\u001b[0m \u001b[0mattribute_decisions\u001b[0m\u001b[1;33m]\u001b[0m\u001b[1;33m\u001b[0m\u001b[1;33m\u001b[0m\u001b[0m\n\u001b[0m\u001b[0;32m      2\u001b[0m \u001b[0mattribute_decisions\u001b[0m\u001b[1;33m\u001b[0m\u001b[1;33m\u001b[0m\u001b[0m\n",
      "\u001b[1;31mTypeError\u001b[0m: list indices must be integers or slices, not str"
     ]
    }
   ],
   "source": [
    "attribute_decisions = [colnames[ind] for ind in attribute_decisions]\n",
    "attribute_decisions"
   ]
  },
  {
   "cell_type": "markdown",
   "id": "a8fab6c3-fe39-487e-bab1-b9429d66424e",
   "metadata": {},
   "source": [
    "In the context of decision trees, the `attribute_decisions` list represents the sequence of attribute decisions made along the decision path that led to the misclassification of an instance. Each element in the list corresponds to the index of the feature (attribute) used for the decision at that particular node.\n",
    "\n",
    "For example, if you have attribute_decisions = [9, 12, 2], it means that the misclassified instance followed the decision path in the decision tree, and the attribute decisions were made based on the following features (attributes):\n",
    "\n",
    "- At the first node, the decision was made based on the 10th feature (assuming a zero-based index, as in Python) of your dataset.\n",
    "- At the second node, the decision was made based on the 13th feature.\n",
    "- At the third node (the penultimate node in the path), the decision was made based on the 3rd feature.\n",
    "\n",
    "These attribute decisions represent the conditions that were evaluated to determine the subsequent splits in the decision tree. \n",
    "Each decision corresponds to a feature or attribute of your dataset, and the specific attribute value was compared against a threshold to determine the path taken through the tree."
   ]
  },
  {
   "cell_type": "markdown",
   "id": "4c3a8246-3e5d-41e8-a5bb-0430c9420276",
   "metadata": {},
   "source": [
    "Identifying the corresponding leaf node(s)"
   ]
  },
  {
   "cell_type": "code",
   "execution_count": 282,
   "id": "ae7ed88e-b90a-4f7c-8928-75d90ed540af",
   "metadata": {},
   "outputs": [
    {
     "name": "stdout",
     "output_type": "stream",
     "text": [
      "21\n"
     ]
    },
    {
     "data": {
      "text/plain": [
       "1"
      ]
     },
     "execution_count": 282,
     "metadata": {},
     "output_type": "execute_result"
    }
   ],
   "source": [
    "leaf_node = node_index[-1]\n",
    "print(leaf_node)\n",
    "\n",
    "predicted_class = model.classes_[model.tree_.value[leaf_node].argmax()]\n",
    "predicted_class"
   ]
  },
  {
   "cell_type": "code",
   "execution_count": 461,
   "id": "0479200f-c847-4bdc-8dfb-ce663056aad7",
   "metadata": {},
   "outputs": [
    {
     "data": {
      "text/plain": [
       "2"
      ]
     },
     "execution_count": 461,
     "metadata": {},
     "output_type": "execute_result"
    }
   ],
   "source": [
    "y_test_pred[10]"
   ]
  },
  {
   "cell_type": "code",
   "execution_count": null,
   "id": "eabdbef3-cb82-446d-9183-c7bc5d7e22eb",
   "metadata": {},
   "outputs": [],
   "source": []
  }
 ],
 "metadata": {
  "kernelspec": {
   "display_name": "Python 3 (ipykernel)",
   "language": "python",
   "name": "python3"
  },
  "language_info": {
   "codemirror_mode": {
    "name": "ipython",
    "version": 3
   },
   "file_extension": ".py",
   "mimetype": "text/x-python",
   "name": "python",
   "nbconvert_exporter": "python",
   "pygments_lexer": "ipython3",
   "version": "3.9.6"
  }
 },
 "nbformat": 4,
 "nbformat_minor": 5
}
